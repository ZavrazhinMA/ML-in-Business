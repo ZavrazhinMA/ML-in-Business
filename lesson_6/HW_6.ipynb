{
 "cells": [
  {
   "cell_type": "markdown",
   "metadata": {},
   "source": [
    "1. взять любой набор данных для бинарной классификации (можно скачать один из модельных с https://archive.ics.uci.edu/ml/datasets.php)\n",
    "2. сделать feature engineering\n",
    "3. обучить любой классификатор (какой вам нравится)\n",
    "4. далее разделить ваш набор данных на два множества: P (positives) и U (unlabeled). Причем брать нужно не все положительные (класс 1) примеры, а только лишь часть\n",
    "5. применить random negative sampling для построения классификатора в новых условиях\n",
    "6. сравнить качество с решением из пункта 4 (построить отчет - таблицу метрик)\n",
    "7. поэкспериментировать с долей P на шаге 5 (как будет меняться качество модели при уменьшении/увеличении размера P)"
   ]
  },
  {
   "cell_type": "markdown",
   "metadata": {},
   "source": [
    "---"
   ]
  },
  {
   "cell_type": "code",
   "execution_count": 1,
   "metadata": {
    "ExecuteTime": {
     "end_time": "2021-05-19T14:32:04.201599Z",
     "start_time": "2021-05-19T14:32:02.892177Z"
    }
   },
   "outputs": [],
   "source": [
    "import matplotlib.pyplot as plt\n",
    "import seaborn as sns\n",
    "%matplotlib inline\n",
    "%config InlineBackend.figure_format = 'svg'\n",
    "plt.style.use('ggplot')\n",
    "plt.rcParams['font.family'] = 'Times New Roman'"
   ]
  },
  {
   "cell_type": "code",
   "execution_count": 2,
   "metadata": {
    "ExecuteTime": {
     "end_time": "2021-05-19T14:32:04.217603Z",
     "start_time": "2021-05-19T14:32:04.203609Z"
    }
   },
   "outputs": [],
   "source": [
    "import numpy as np\n",
    "import pandas as pd\n",
    "import warnings\n",
    "warnings.filterwarnings('ignore')\n",
    "pd.set_option('display.float_format', '{:.2f}'.format)"
   ]
  },
  {
   "cell_type": "code",
   "execution_count": 3,
   "metadata": {
    "ExecuteTime": {
     "end_time": "2021-05-19T14:32:04.998798Z",
     "start_time": "2021-05-19T14:32:04.221603Z"
    }
   },
   "outputs": [],
   "source": [
    "from sklearn.model_selection import train_test_split\n",
    "from sklearn.metrics import f1_score, roc_auc_score, precision_score, recall_score"
   ]
  },
  {
   "cell_type": "code",
   "execution_count": 4,
   "metadata": {
    "ExecuteTime": {
     "end_time": "2021-05-19T14:32:05.030805Z",
     "start_time": "2021-05-19T14:32:04.999790Z"
    }
   },
   "outputs": [],
   "source": [
    "from xgboost import XGBClassifier"
   ]
  },
  {
   "cell_type": "markdown",
   "metadata": {},
   "source": [
    "----"
   ]
  },
  {
   "cell_type": "markdown",
   "metadata": {},
   "source": [
    "## **1987 National Indonesia Contraceptive Prevalence Survey**\n",
    "\n",
    "data: https://archive.ics.uci.edu/ml/datasets/Contraceptive+Method+Choice\n",
    "\n",
    "### Attribute Information:\n",
    "\n",
    "N|name|type|decription|\n",
    ":-|:------------------------------|:---------------------:|:---------------------|\n",
    "1| Wife's age|                     (numerical)|-|\n",
    "   2| Wife's education|               (categorical) |     1=low, 2, 3, 4=high|\n",
    "   3| Husband's education|            (categorical) |     1=low, 2, 3, 4=high|\n",
    "   4| Number of children ever born|   (numerical)|-|\n",
    "   5| Wife's religion|                (binary)|           0=Non-Islam, 1=Islam|\n",
    "   6| Wife's now working?|            (binary)|           0=Yes, 1=No|\n",
    "   7| Husband's occupation|           (categorical)|      1, 2, 3, 4|\n",
    "   8| Standard-of-living index|       (categorical)|      1=low, 2, 3, 4=high|\n",
    "   9| Media exposure|                 (binary)|           0=Good, 1=Not good|\n",
    "   10| Contraceptive method used|     (class attribute)|  1=No-use, 2=Long-term, 3=Short-term|"
   ]
  },
  {
   "cell_type": "code",
   "execution_count": 5,
   "metadata": {
    "ExecuteTime": {
     "end_time": "2021-05-19T14:32:05.062795Z",
     "start_time": "2021-05-19T14:32:05.031797Z"
    },
    "scrolled": false
   },
   "outputs": [
    {
     "data": {
      "text/html": [
       "<div>\n",
       "<style scoped>\n",
       "    .dataframe tbody tr th:only-of-type {\n",
       "        vertical-align: middle;\n",
       "    }\n",
       "\n",
       "    .dataframe tbody tr th {\n",
       "        vertical-align: top;\n",
       "    }\n",
       "\n",
       "    .dataframe thead th {\n",
       "        text-align: right;\n",
       "    }\n",
       "</style>\n",
       "<table border=\"1\" class=\"dataframe\">\n",
       "  <thead>\n",
       "    <tr style=\"text-align: right;\">\n",
       "      <th></th>\n",
       "      <th>age_wife</th>\n",
       "      <th>education_wife</th>\n",
       "      <th>education_husband</th>\n",
       "      <th>children_num</th>\n",
       "      <th>religion_wife</th>\n",
       "      <th>is_wife_working</th>\n",
       "      <th>occupation_husband</th>\n",
       "      <th>living _index</th>\n",
       "      <th>media_exposure</th>\n",
       "      <th>contraceptive_method</th>\n",
       "    </tr>\n",
       "  </thead>\n",
       "  <tbody>\n",
       "    <tr>\n",
       "      <th>0</th>\n",
       "      <td>24</td>\n",
       "      <td>2</td>\n",
       "      <td>3</td>\n",
       "      <td>3</td>\n",
       "      <td>1</td>\n",
       "      <td>1</td>\n",
       "      <td>2</td>\n",
       "      <td>3</td>\n",
       "      <td>0</td>\n",
       "      <td>1</td>\n",
       "    </tr>\n",
       "    <tr>\n",
       "      <th>1</th>\n",
       "      <td>45</td>\n",
       "      <td>1</td>\n",
       "      <td>3</td>\n",
       "      <td>10</td>\n",
       "      <td>1</td>\n",
       "      <td>1</td>\n",
       "      <td>3</td>\n",
       "      <td>4</td>\n",
       "      <td>0</td>\n",
       "      <td>1</td>\n",
       "    </tr>\n",
       "    <tr>\n",
       "      <th>2</th>\n",
       "      <td>43</td>\n",
       "      <td>2</td>\n",
       "      <td>3</td>\n",
       "      <td>7</td>\n",
       "      <td>1</td>\n",
       "      <td>1</td>\n",
       "      <td>3</td>\n",
       "      <td>4</td>\n",
       "      <td>0</td>\n",
       "      <td>1</td>\n",
       "    </tr>\n",
       "  </tbody>\n",
       "</table>\n",
       "</div>"
      ],
      "text/plain": [
       "   age_wife  education_wife  education_husband  children_num  religion_wife  \\\n",
       "0        24               2                  3             3              1   \n",
       "1        45               1                  3            10              1   \n",
       "2        43               2                  3             7              1   \n",
       "\n",
       "   is_wife_working  occupation_husband  living _index  media_exposure  \\\n",
       "0                1                   2              3               0   \n",
       "1                1                   3              4               0   \n",
       "2                1                   3              4               0   \n",
       "\n",
       "   contraceptive_method  \n",
       "0                     1  \n",
       "1                     1  \n",
       "2                     1  "
      ]
     },
     "execution_count": 5,
     "metadata": {},
     "output_type": "execute_result"
    }
   ],
   "source": [
    "data_df = pd.read_csv('data/data.csv', sep=';')\n",
    "data_df.head(3)"
   ]
  },
  {
   "cell_type": "code",
   "execution_count": 6,
   "metadata": {
    "ExecuteTime": {
     "end_time": "2021-05-19T14:32:05.094812Z",
     "start_time": "2021-05-19T14:32:05.064805Z"
    },
    "scrolled": true
   },
   "outputs": [
    {
     "data": {
      "text/html": [
       "<div>\n",
       "<style scoped>\n",
       "    .dataframe tbody tr th:only-of-type {\n",
       "        vertical-align: middle;\n",
       "    }\n",
       "\n",
       "    .dataframe tbody tr th {\n",
       "        vertical-align: top;\n",
       "    }\n",
       "\n",
       "    .dataframe thead th {\n",
       "        text-align: right;\n",
       "    }\n",
       "</style>\n",
       "<table border=\"1\" class=\"dataframe\">\n",
       "  <thead>\n",
       "    <tr style=\"text-align: right;\">\n",
       "      <th></th>\n",
       "      <th>age_wife</th>\n",
       "      <th>education_wife</th>\n",
       "      <th>education_husband</th>\n",
       "      <th>children_num</th>\n",
       "      <th>religion_wife</th>\n",
       "      <th>is_wife_working</th>\n",
       "      <th>occupation_husband</th>\n",
       "      <th>living _index</th>\n",
       "      <th>media_exposure</th>\n",
       "      <th>contraceptive_method</th>\n",
       "    </tr>\n",
       "  </thead>\n",
       "  <tbody>\n",
       "    <tr>\n",
       "      <th>count</th>\n",
       "      <td>1473.00</td>\n",
       "      <td>1473.00</td>\n",
       "      <td>1473.00</td>\n",
       "      <td>1473.00</td>\n",
       "      <td>1473.00</td>\n",
       "      <td>1473.00</td>\n",
       "      <td>1473.00</td>\n",
       "      <td>1473.00</td>\n",
       "      <td>1473.00</td>\n",
       "      <td>1473.00</td>\n",
       "    </tr>\n",
       "    <tr>\n",
       "      <th>mean</th>\n",
       "      <td>32.54</td>\n",
       "      <td>2.96</td>\n",
       "      <td>3.43</td>\n",
       "      <td>3.26</td>\n",
       "      <td>0.85</td>\n",
       "      <td>0.75</td>\n",
       "      <td>2.14</td>\n",
       "      <td>3.13</td>\n",
       "      <td>0.07</td>\n",
       "      <td>1.92</td>\n",
       "    </tr>\n",
       "    <tr>\n",
       "      <th>std</th>\n",
       "      <td>8.23</td>\n",
       "      <td>1.01</td>\n",
       "      <td>0.82</td>\n",
       "      <td>2.36</td>\n",
       "      <td>0.36</td>\n",
       "      <td>0.43</td>\n",
       "      <td>0.86</td>\n",
       "      <td>0.98</td>\n",
       "      <td>0.26</td>\n",
       "      <td>0.88</td>\n",
       "    </tr>\n",
       "    <tr>\n",
       "      <th>min</th>\n",
       "      <td>16.00</td>\n",
       "      <td>1.00</td>\n",
       "      <td>1.00</td>\n",
       "      <td>0.00</td>\n",
       "      <td>0.00</td>\n",
       "      <td>0.00</td>\n",
       "      <td>1.00</td>\n",
       "      <td>1.00</td>\n",
       "      <td>0.00</td>\n",
       "      <td>1.00</td>\n",
       "    </tr>\n",
       "    <tr>\n",
       "      <th>50%</th>\n",
       "      <td>32.00</td>\n",
       "      <td>3.00</td>\n",
       "      <td>4.00</td>\n",
       "      <td>3.00</td>\n",
       "      <td>1.00</td>\n",
       "      <td>1.00</td>\n",
       "      <td>2.00</td>\n",
       "      <td>3.00</td>\n",
       "      <td>0.00</td>\n",
       "      <td>2.00</td>\n",
       "    </tr>\n",
       "    <tr>\n",
       "      <th>max</th>\n",
       "      <td>49.00</td>\n",
       "      <td>4.00</td>\n",
       "      <td>4.00</td>\n",
       "      <td>16.00</td>\n",
       "      <td>1.00</td>\n",
       "      <td>1.00</td>\n",
       "      <td>4.00</td>\n",
       "      <td>4.00</td>\n",
       "      <td>1.00</td>\n",
       "      <td>3.00</td>\n",
       "    </tr>\n",
       "  </tbody>\n",
       "</table>\n",
       "</div>"
      ],
      "text/plain": [
       "       age_wife  education_wife  education_husband  children_num  \\\n",
       "count   1473.00         1473.00            1473.00       1473.00   \n",
       "mean      32.54            2.96               3.43          3.26   \n",
       "std        8.23            1.01               0.82          2.36   \n",
       "min       16.00            1.00               1.00          0.00   \n",
       "50%       32.00            3.00               4.00          3.00   \n",
       "max       49.00            4.00               4.00         16.00   \n",
       "\n",
       "       religion_wife  is_wife_working  occupation_husband  living _index  \\\n",
       "count        1473.00          1473.00             1473.00        1473.00   \n",
       "mean            0.85             0.75                2.14           3.13   \n",
       "std             0.36             0.43                0.86           0.98   \n",
       "min             0.00             0.00                1.00           1.00   \n",
       "50%             1.00             1.00                2.00           3.00   \n",
       "max             1.00             1.00                4.00           4.00   \n",
       "\n",
       "       media_exposure  contraceptive_method  \n",
       "count         1473.00               1473.00  \n",
       "mean             0.07                  1.92  \n",
       "std              0.26                  0.88  \n",
       "min              0.00                  1.00  \n",
       "50%              0.00                  2.00  \n",
       "max              1.00                  3.00  "
      ]
     },
     "execution_count": 6,
     "metadata": {},
     "output_type": "execute_result"
    }
   ],
   "source": [
    "data_df.describe(percentiles=[.5])"
   ]
  },
  {
   "cell_type": "code",
   "execution_count": 7,
   "metadata": {
    "ExecuteTime": {
     "end_time": "2021-05-19T14:32:05.110815Z",
     "start_time": "2021-05-19T14:32:05.096802Z"
    }
   },
   "outputs": [],
   "source": [
    "# выбросов, пропусков нет, признаков мало - с фичами особо не разойдешься\n",
    "class FeatureEng:\n",
    "\n",
    "    def fit_transform(self, data):\n",
    "\n",
    "        data['sum_education'] = data['education_wife'] + data['education_wife']\n",
    "        data['age_children'] = data['children_num'] / data['age_wife']\n",
    "        data['pos'] = data['is_wife_working'] + data['media_exposure']\n",
    "        data['social'] = data['sum_education'] + data['living _index']\n",
    "        data['edu_job'] = data['sum_education'] + data['occupation_husband']\n",
    "        # можно было бы закодировать категориальные признаки через target, но для catboost это не \"must have\"\n",
    "        return data"
   ]
  },
  {
   "cell_type": "code",
   "execution_count": 8,
   "metadata": {
    "ExecuteTime": {
     "end_time": "2021-05-19T14:32:05.142823Z",
     "start_time": "2021-05-19T14:32:05.111816Z"
    }
   },
   "outputs": [
    {
     "data": {
      "text/html": [
       "<div>\n",
       "<style scoped>\n",
       "    .dataframe tbody tr th:only-of-type {\n",
       "        vertical-align: middle;\n",
       "    }\n",
       "\n",
       "    .dataframe tbody tr th {\n",
       "        vertical-align: top;\n",
       "    }\n",
       "\n",
       "    .dataframe thead th {\n",
       "        text-align: right;\n",
       "    }\n",
       "</style>\n",
       "<table border=\"1\" class=\"dataframe\">\n",
       "  <thead>\n",
       "    <tr style=\"text-align: right;\">\n",
       "      <th></th>\n",
       "      <th>age_wife</th>\n",
       "      <th>education_wife</th>\n",
       "      <th>education_husband</th>\n",
       "      <th>children_num</th>\n",
       "      <th>religion_wife</th>\n",
       "      <th>is_wife_working</th>\n",
       "      <th>occupation_husband</th>\n",
       "      <th>living _index</th>\n",
       "      <th>media_exposure</th>\n",
       "      <th>contraceptive_method</th>\n",
       "      <th>sum_education</th>\n",
       "      <th>age_children</th>\n",
       "      <th>pos</th>\n",
       "      <th>social</th>\n",
       "      <th>edu_job</th>\n",
       "    </tr>\n",
       "  </thead>\n",
       "  <tbody>\n",
       "    <tr>\n",
       "      <th>0</th>\n",
       "      <td>24</td>\n",
       "      <td>2</td>\n",
       "      <td>3</td>\n",
       "      <td>3</td>\n",
       "      <td>1</td>\n",
       "      <td>1</td>\n",
       "      <td>2</td>\n",
       "      <td>3</td>\n",
       "      <td>0</td>\n",
       "      <td>1</td>\n",
       "      <td>4</td>\n",
       "      <td>0.12</td>\n",
       "      <td>1</td>\n",
       "      <td>7</td>\n",
       "      <td>6</td>\n",
       "    </tr>\n",
       "    <tr>\n",
       "      <th>1</th>\n",
       "      <td>45</td>\n",
       "      <td>1</td>\n",
       "      <td>3</td>\n",
       "      <td>10</td>\n",
       "      <td>1</td>\n",
       "      <td>1</td>\n",
       "      <td>3</td>\n",
       "      <td>4</td>\n",
       "      <td>0</td>\n",
       "      <td>1</td>\n",
       "      <td>2</td>\n",
       "      <td>0.22</td>\n",
       "      <td>1</td>\n",
       "      <td>6</td>\n",
       "      <td>5</td>\n",
       "    </tr>\n",
       "    <tr>\n",
       "      <th>2</th>\n",
       "      <td>43</td>\n",
       "      <td>2</td>\n",
       "      <td>3</td>\n",
       "      <td>7</td>\n",
       "      <td>1</td>\n",
       "      <td>1</td>\n",
       "      <td>3</td>\n",
       "      <td>4</td>\n",
       "      <td>0</td>\n",
       "      <td>1</td>\n",
       "      <td>4</td>\n",
       "      <td>0.16</td>\n",
       "      <td>1</td>\n",
       "      <td>8</td>\n",
       "      <td>7</td>\n",
       "    </tr>\n",
       "  </tbody>\n",
       "</table>\n",
       "</div>"
      ],
      "text/plain": [
       "   age_wife  education_wife  education_husband  children_num  religion_wife  \\\n",
       "0        24               2                  3             3              1   \n",
       "1        45               1                  3            10              1   \n",
       "2        43               2                  3             7              1   \n",
       "\n",
       "   is_wife_working  occupation_husband  living _index  media_exposure  \\\n",
       "0                1                   2              3               0   \n",
       "1                1                   3              4               0   \n",
       "2                1                   3              4               0   \n",
       "\n",
       "   contraceptive_method  sum_education  age_children  pos  social  edu_job  \n",
       "0                     1              4          0.12    1       7        6  \n",
       "1                     1              2          0.22    1       6        5  \n",
       "2                     1              4          0.16    1       8        7  "
      ]
     },
     "execution_count": 8,
     "metadata": {},
     "output_type": "execute_result"
    }
   ],
   "source": [
    "feat = FeatureEng()\n",
    "df = feat.fit_transform(data_df)\n",
    "df.head(3)"
   ]
  },
  {
   "cell_type": "code",
   "execution_count": 9,
   "metadata": {
    "ExecuteTime": {
     "end_time": "2021-05-19T14:32:05.158816Z",
     "start_time": "2021-05-19T14:32:05.144813Z"
    }
   },
   "outputs": [
    {
     "data": {
      "text/plain": [
       "1    629\n",
       "3    511\n",
       "2    333\n",
       "Name: contraceptive_method, dtype: int64"
      ]
     },
     "execution_count": 9,
     "metadata": {},
     "output_type": "execute_result"
    }
   ],
   "source": [
    "df['contraceptive_method'].value_counts()"
   ]
  },
  {
   "cell_type": "markdown",
   "metadata": {},
   "source": [
    "Сведем задачу к **двухклассовой классификации**. В качестве положительного класса выбрем класс 1 . Остальных отнесем к классу 0"
   ]
  },
  {
   "cell_type": "code",
   "execution_count": 10,
   "metadata": {
    "ExecuteTime": {
     "end_time": "2021-05-19T14:32:05.174830Z",
     "start_time": "2021-05-19T14:32:05.160817Z"
    }
   },
   "outputs": [],
   "source": [
    "df['target'] = 0\n",
    "df.loc[df['contraceptive_method'] == 1, 'target'] = 1\n",
    "df.drop(columns='contraceptive_method', inplace=True)"
   ]
  },
  {
   "cell_type": "code",
   "execution_count": 11,
   "metadata": {
    "ExecuteTime": {
     "end_time": "2021-05-19T14:32:05.206830Z",
     "start_time": "2021-05-19T14:32:05.176820Z"
    }
   },
   "outputs": [],
   "source": [
    "cat_features = ['education_wife', 'education_husband',\n",
    "                'occupation_husband', 'living _index']\n",
    "df[cat_features] = df[cat_features].astype('category')\n",
    "df = pd.get_dummies(df)"
   ]
  },
  {
   "cell_type": "code",
   "execution_count": 12,
   "metadata": {
    "ExecuteTime": {
     "end_time": "2021-05-19T14:32:05.222956Z",
     "start_time": "2021-05-19T14:32:05.208829Z"
    }
   },
   "outputs": [],
   "source": [
    "X_train, X_test, y_train, y_test = train_test_split(\n",
    "    df.drop(columns='target'), df['target'], test_size=0.2, random_state=13)"
   ]
  },
  {
   "cell_type": "code",
   "execution_count": 13,
   "metadata": {
    "ExecuteTime": {
     "end_time": "2021-05-19T14:32:05.396870Z",
     "start_time": "2021-05-19T14:32:05.224832Z"
    }
   },
   "outputs": [
    {
     "name": "stdout",
     "output_type": "stream",
     "text": [
      "[17:32:05] WARNING: C:/Users/Administrator/workspace/xgboost-win64_release_1.4.0/src/learner.cc:1095: Starting in XGBoost 1.3.0, the default evaluation metric used with the objective 'binary:logistic' was changed from 'error' to 'logloss'. Explicitly set eval_metric if you'd like to restore the old behavior.\n"
     ]
    }
   ],
   "source": [
    "model_xgb = XGBClassifier(random_state=13)\n",
    "model_xgb.fit(X_train, y_train)\n",
    "y_proba = model_xgb.predict_proba(X_test)[:, 1]\n",
    "y_pred = model_xgb.predict(X_test)"
   ]
  },
  {
   "cell_type": "code",
   "execution_count": 14,
   "metadata": {
    "ExecuteTime": {
     "end_time": "2021-05-19T14:32:05.412874Z",
     "start_time": "2021-05-19T14:32:05.397870Z"
    }
   },
   "outputs": [],
   "source": [
    "result = {'metrics': ['roc_auc', 'f1score', 'precision', 'recall']}\n",
    "\n",
    "\n",
    "def metrics(y_test, y_pred, y_proba):\n",
    "    return [roc_auc_score(y_test, y_proba),\n",
    "            f1_score(y_test, y_pred),\n",
    "            precision_score(y_test, y_pred),\n",
    "            recall_score(y_test, y_pred)]\n",
    "\n",
    "\n",
    "result['XGBClassifier_base'] = metrics(y_test, y_pred, y_proba)"
   ]
  },
  {
   "cell_type": "markdown",
   "metadata": {},
   "source": [
    "----"
   ]
  },
  {
   "cell_type": "markdown",
   "metadata": {},
   "source": [
    "## PU-learning. (random negative sampling)"
   ]
  },
  {
   "cell_type": "code",
   "execution_count": 15,
   "metadata": {
    "ExecuteTime": {
     "end_time": "2021-05-19T14:32:05.938993Z",
     "start_time": "2021-05-19T14:32:05.414874Z"
    }
   },
   "outputs": [
    {
     "name": "stdout",
     "output_type": "stream",
     "text": [
      "[17:32:05] WARNING: C:/Users/Administrator/workspace/xgboost-win64_release_1.4.0/src/learner.cc:1095: Starting in XGBoost 1.3.0, the default evaluation metric used with the objective 'binary:logistic' was changed from 'error' to 'logloss'. Explicitly set eval_metric if you'd like to restore the old behavior.\n",
      "[17:32:05] WARNING: C:/Users/Administrator/workspace/xgboost-win64_release_1.4.0/src/learner.cc:1095: Starting in XGBoost 1.3.0, the default evaluation metric used with the objective 'binary:logistic' was changed from 'error' to 'logloss'. Explicitly set eval_metric if you'd like to restore the old behavior.\n",
      "[17:32:05] WARNING: C:/Users/Administrator/workspace/xgboost-win64_release_1.4.0/src/learner.cc:1095: Starting in XGBoost 1.3.0, the default evaluation metric used with the objective 'binary:logistic' was changed from 'error' to 'logloss'. Explicitly set eval_metric if you'd like to restore the old behavior.\n",
      "[17:32:05] WARNING: C:/Users/Administrator/workspace/xgboost-win64_release_1.4.0/src/learner.cc:1095: Starting in XGBoost 1.3.0, the default evaluation metric used with the objective 'binary:logistic' was changed from 'error' to 'logloss'. Explicitly set eval_metric if you'd like to restore the old behavior.\n",
      "[17:32:05] WARNING: C:/Users/Administrator/workspace/xgboost-win64_release_1.4.0/src/learner.cc:1095: Starting in XGBoost 1.3.0, the default evaluation metric used with the objective 'binary:logistic' was changed from 'error' to 'logloss'. Explicitly set eval_metric if you'd like to restore the old behavior.\n"
     ]
    }
   ],
   "source": [
    "for k in [10, 20, 30, 40, 50]:\n",
    "\n",
    "    pos_ind = df.loc[df.target == 1].index\n",
    "    n_samples = round(k*len(pos_ind)/100)\n",
    "    pos_samples = np.random.choice(pos_ind, size=n_samples, replace=False)\n",
    "    data_rs = df.copy()\n",
    "    data_rs['PU_labels'] = 0\n",
    "    data_rs.loc[pos_samples, 'PU_labels'] = 1\n",
    "    neg_ind = data_rs.loc[data_rs['PU_labels'] == 0].index\n",
    "    neg_samples = np.random.choice(neg_ind, size=n_samples, replace=False)\n",
    "    rs_train = pd.concat([data_rs.loc[pos_samples], data_rs.loc[neg_samples]])\n",
    "    rs_test = data_rs.drop(index=(np.append(pos_samples, neg_samples)))\n",
    "    # ========================================================================\n",
    "\n",
    "    model_xgb_rs = XGBClassifier(random_state=13)\n",
    "    model_xgb_rs.fit(rs_train.drop(\n",
    "        columns=['target', 'PU_labels']), rs_train['PU_labels'])\n",
    "    y_proba = model_xgb_rs.predict_proba(\n",
    "        rs_test.drop(columns=['target', 'PU_labels']))[:, 1]\n",
    "    y_pred = model_xgb_rs.predict(\n",
    "        rs_test.drop(columns=['target', 'PU_labels']))\n",
    "    \n",
    "    result['XGBClassifier_RS_' +\n",
    "           str(k)] = metrics(rs_test['target'], y_pred, y_proba)"
   ]
  },
  {
   "cell_type": "code",
   "execution_count": 16,
   "metadata": {
    "ExecuteTime": {
     "end_time": "2021-05-19T14:32:05.954997Z",
     "start_time": "2021-05-19T14:32:05.940994Z"
    }
   },
   "outputs": [
    {
     "data": {
      "text/html": [
       "<div>\n",
       "<style scoped>\n",
       "    .dataframe tbody tr th:only-of-type {\n",
       "        vertical-align: middle;\n",
       "    }\n",
       "\n",
       "    .dataframe tbody tr th {\n",
       "        vertical-align: top;\n",
       "    }\n",
       "\n",
       "    .dataframe thead th {\n",
       "        text-align: right;\n",
       "    }\n",
       "</style>\n",
       "<table border=\"1\" class=\"dataframe\">\n",
       "  <thead>\n",
       "    <tr style=\"text-align: right;\">\n",
       "      <th></th>\n",
       "      <th>XGBClassifier_base</th>\n",
       "      <th>XGBClassifier_RS_10</th>\n",
       "      <th>XGBClassifier_RS_20</th>\n",
       "      <th>XGBClassifier_RS_30</th>\n",
       "      <th>XGBClassifier_RS_40</th>\n",
       "      <th>XGBClassifier_RS_50</th>\n",
       "    </tr>\n",
       "    <tr>\n",
       "      <th>metrics</th>\n",
       "      <th></th>\n",
       "      <th></th>\n",
       "      <th></th>\n",
       "      <th></th>\n",
       "      <th></th>\n",
       "      <th></th>\n",
       "    </tr>\n",
       "  </thead>\n",
       "  <tbody>\n",
       "    <tr>\n",
       "      <th>roc_auc</th>\n",
       "      <td>0.74</td>\n",
       "      <td>0.63</td>\n",
       "      <td>0.65</td>\n",
       "      <td>0.68</td>\n",
       "      <td>0.62</td>\n",
       "      <td>0.70</td>\n",
       "    </tr>\n",
       "    <tr>\n",
       "      <th>f1score</th>\n",
       "      <td>0.57</td>\n",
       "      <td>0.52</td>\n",
       "      <td>0.53</td>\n",
       "      <td>0.53</td>\n",
       "      <td>0.45</td>\n",
       "      <td>0.50</td>\n",
       "    </tr>\n",
       "    <tr>\n",
       "      <th>precision</th>\n",
       "      <td>0.61</td>\n",
       "      <td>0.53</td>\n",
       "      <td>0.50</td>\n",
       "      <td>0.46</td>\n",
       "      <td>0.38</td>\n",
       "      <td>0.39</td>\n",
       "    </tr>\n",
       "    <tr>\n",
       "      <th>recall</th>\n",
       "      <td>0.54</td>\n",
       "      <td>0.51</td>\n",
       "      <td>0.58</td>\n",
       "      <td>0.62</td>\n",
       "      <td>0.55</td>\n",
       "      <td>0.67</td>\n",
       "    </tr>\n",
       "  </tbody>\n",
       "</table>\n",
       "</div>"
      ],
      "text/plain": [
       "           XGBClassifier_base  XGBClassifier_RS_10  XGBClassifier_RS_20  \\\n",
       "metrics                                                                   \n",
       "roc_auc                  0.74                 0.63                 0.65   \n",
       "f1score                  0.57                 0.52                 0.53   \n",
       "precision                0.61                 0.53                 0.50   \n",
       "recall                   0.54                 0.51                 0.58   \n",
       "\n",
       "           XGBClassifier_RS_30  XGBClassifier_RS_40  XGBClassifier_RS_50  \n",
       "metrics                                                                   \n",
       "roc_auc                   0.68                 0.62                 0.70  \n",
       "f1score                   0.53                 0.45                 0.50  \n",
       "precision                 0.46                 0.38                 0.39  \n",
       "recall                    0.62                 0.55                 0.67  "
      ]
     },
     "execution_count": 16,
     "metadata": {},
     "output_type": "execute_result"
    }
   ],
   "source": [
    "pd.DataFrame(result).set_index('metrics')"
   ]
  }
 ],
 "metadata": {
  "kernelspec": {
   "display_name": "Python 3",
   "language": "python",
   "name": "python3"
  },
  "language_info": {
   "codemirror_mode": {
    "name": "ipython",
    "version": 3
   },
   "file_extension": ".py",
   "mimetype": "text/x-python",
   "name": "python",
   "nbconvert_exporter": "python",
   "pygments_lexer": "ipython3",
   "version": "3.8.5"
  },
  "toc": {
   "base_numbering": 1,
   "nav_menu": {},
   "number_sections": true,
   "sideBar": true,
   "skip_h1_title": false,
   "title_cell": "Table of Contents",
   "title_sidebar": "Contents",
   "toc_cell": false,
   "toc_position": {},
   "toc_section_display": true,
   "toc_window_display": false
  }
 },
 "nbformat": 4,
 "nbformat_minor": 4
}
